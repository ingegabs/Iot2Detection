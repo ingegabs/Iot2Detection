{
 "cells": [
  {
   "cell_type": "markdown",
   "id": "2d48ca62",
   "metadata": {},
   "source": [
    "# Second try\n",
    "With no oversampling, but now with bayesian optimization"
   ]
  },
  {
   "cell_type": "code",
   "execution_count": 2,
   "id": "797b8548",
   "metadata": {},
   "outputs": [],
   "source": [
    "from ucimlrepo import fetch_ucirepo \n",
    "import numpy as np\n",
    "import pandas as pd\n",
    "from sklearn.preprocessing import StandardScaler\n",
    "from sklearn.linear_model import LogisticRegression\n",
    "from sklearn.metrics import confusion_matrix, accuracy_score\n",
    "import matplotlib.pyplot as plt\n",
    "from sklearn.model_selection import train_test_split\n",
    "\n"
   ]
  },
  {
   "cell_type": "code",
   "execution_count": 3,
   "id": "77f34d1f",
   "metadata": {},
   "outputs": [
    {
     "name": "stdout",
     "output_type": "stream",
     "text": [
      "{'uci_id': 942, 'name': 'RT-IoT2022 ', 'repository_url': 'https://archive.ics.uci.edu/dataset/942/rt-iot2022', 'data_url': 'https://archive.ics.uci.edu/static/public/942/data.csv', 'abstract': 'The RT-IoT2022, a proprietary dataset derived from a real-time IoT infrastructure, is introduced as a comprehensive resource integrating a diverse range of IoT devices and sophisticated network attack methodologies. This dataset encompasses both normal and adversarial network behaviours, providing a general representation of real-world scenarios.\\nIncorporating data from IoT devices such as ThingSpeak-LED, Wipro-Bulb, and MQTT-Temp, as well as simulated attack scenarios involving Brute-Force SSH attacks, DDoS attacks using Hping and Slowloris, and Nmap patterns, RT-IoT2022 offers a detailed perspective on the complex nature of network traffic. The bidirectional attributes of network traffic are meticulously captured using the Zeek network monitoring tool and the Flowmeter plugin. Researchers can leverage the RT-IoT2022 dataset to advance the capabilities of Intrusion Detection Systems (IDS), fostering the development of robust and adaptive security solutions for real-time IoT networks. ', 'area': 'Engineering', 'tasks': ['Classification', 'Regression', 'Clustering'], 'characteristics': ['Tabular', 'Sequential', 'Multivariate'], 'num_instances': 123117, 'num_features': 83, 'feature_types': ['Real', 'Categorical'], 'demographics': [], 'target_col': ['Attack_type'], 'index_col': ['id'], 'has_missing_values': 'no', 'missing_values_symbol': None, 'year_of_dataset_creation': 2023, 'last_updated': 'Fri Mar 08 2024', 'dataset_doi': '10.24432/C5P338', 'creators': ['B. S.', 'Rohini Nagapadma'], 'intro_paper': {'ID': 362, 'type': 'NATIVE', 'title': 'Quantized autoencoder (QAE) intrusion detection system for anomaly detection in resource-constrained IoT devices using RT-IoT2022 dataset', 'authors': 'B. S. Sharmila, Rohini Nagapadma', 'venue': 'Cybersecurity', 'year': 2023, 'journal': None, 'DOI': None, 'URL': 'https://www.semanticscholar.org/paper/753f6ede01b4acaa325e302c38f1e0c1ade74f5b', 'sha': None, 'corpus': None, 'arxiv': None, 'mag': None, 'acl': None, 'pmid': None, 'pmcid': None}, 'additional_info': {'summary': None, 'purpose': None, 'funded_by': None, 'instances_represent': None, 'recommended_data_splits': None, 'sensitive_data': None, 'preprocessing_description': None, 'variable_info': 'Column Details:\\nid.orig_p\\nid.resp_p\\nproto\\nservice\\nflow_duration\\nfwd_pkts_tot\\nbwd_pkts_tot\\nfwd_data_pkts_tot\\nbwd_data_pkts_tot\\nfwd_pkts_per_sec\\nbwd_pkts_per_sec\\nflow_pkts_per_sec\\ndown_up_ratio\\nfwd_header_size_tot\\nfwd_header_size_min\\nfwd_header_size_max\\nbwd_header_size_tot\\nbwd_header_size_min\\nbwd_header_size_max\\nflow_FIN_flag_count\\nflow_SYN_flag_count\\nflow_RST_flag_count\\nfwd_PSH_flag_count\\nbwd_PSH_flag_count\\nflow_ACK_flag_count\\nfwd_URG_flag_count\\nbwd_URG_flag_count\\nflow_CWR_flag_count\\nflow_ECE_flag_count\\nfwd_pkts_payload.min\\nfwd_pkts_payload.max\\nfwd_pkts_payload.tot\\nfwd_pkts_payload.avg\\nfwd_pkts_payload.std\\nbwd_pkts_payload.min\\nbwd_pkts_payload.max\\nbwd_pkts_payload.tot\\nbwd_pkts_payload.avg\\nbwd_pkts_payload.std\\nflow_pkts_payload.min\\nflow_pkts_payload.max\\nflow_pkts_payload.tot\\nflow_pkts_payload.avg\\nflow_pkts_payload.std\\nfwd_iat.min\\nfwd_iat.max\\nfwd_iat.tot\\nfwd_iat.avg\\nfwd_iat.std\\nbwd_iat.min\\nbwd_iat.max\\nbwd_iat.tot\\nbwd_iat.avg\\nbwd_iat.std\\nflow_iat.min\\nflow_iat.max\\nflow_iat.tot\\nflow_iat.avg\\nflow_iat.std\\npayload_bytes_per_second\\nfwd_subflow_pkts\\nbwd_subflow_pkts\\nfwd_subflow_bytes\\nbwd_subflow_bytes\\nfwd_bulk_bytes\\nbwd_bulk_bytes\\nfwd_bulk_packets\\nbwd_bulk_packets\\nfwd_bulk_rate\\nbwd_bulk_rate\\nactive.min\\nactive.max\\nactive.tot\\nactive.avg\\nactive.std\\nidle.min\\nidle.max\\nidle.tot\\nidle.avg\\nidle.std\\nfwd_init_window_size\\nbwd_init_window_size\\nfwd_last_window_size\\nAttack_type', 'citation': None}}\n",
      "                    name     role         type demographic description units  \\\n",
      "0              id.orig_p  Feature      Integer        None        None  None   \n",
      "1              id.resp_p  Feature      Integer        None        None  None   \n",
      "2                  proto  Feature  Categorical        None        None  None   \n",
      "3                service  Feature   Continuous        None        None  None   \n",
      "4          flow_duration  Feature   Continuous        None        None  None   \n",
      "..                   ...      ...          ...         ...         ...   ...   \n",
      "80  fwd_init_window_size  Feature      Integer        None        None  None   \n",
      "81  bwd_init_window_size  Feature      Integer        None        None  None   \n",
      "82  fwd_last_window_size  Feature      Integer        None        None  None   \n",
      "83           Attack_type   Target  Categorical        None        None  None   \n",
      "84                    id       ID      Integer        None        None  None   \n",
      "\n",
      "   missing_values  \n",
      "0              no  \n",
      "1              no  \n",
      "2              no  \n",
      "3              no  \n",
      "4              no  \n",
      "..            ...  \n",
      "80             no  \n",
      "81             no  \n",
      "82             no  \n",
      "83             no  \n",
      "84             no  \n",
      "\n",
      "[85 rows x 7 columns]\n"
     ]
    }
   ],
   "source": [
    "# fetch dataset \n",
    "rt_iot2022 = fetch_ucirepo(id=942) \n",
    "  \n",
    "# data (as pandas dataframes) divided in input and output \n",
    "Input = rt_iot2022.data.features \n",
    "Output = rt_iot2022.data.targets \n",
    "  \n",
    "# metadata \n",
    "print(rt_iot2022.metadata) \n",
    "  \n",
    "# variable information \n",
    "print(rt_iot2022.variables) "
   ]
  },
  {
   "cell_type": "markdown",
   "id": "99a2918a",
   "metadata": {},
   "source": [
    "# Transform data\n",
    "\n",
    "For this model only the attacks \"DOS_SYN_Hping\" and \"DDOS_Slowloris\" are relevant. the information was reshaped so all other categories where changed for \"not compromised\" (\"Thing_Speak\" and \"Wipro_bulb\") or Compromised on all the others"
   ]
  },
  {
   "cell_type": "code",
   "execution_count": 4,
   "id": "9b4d0030",
   "metadata": {},
   "outputs": [
    {
     "name": "stdout",
     "output_type": "stream",
     "text": [
      "Attack_type_agg\n",
      "DOS_SYN_Hping       94659\n",
      "Other Compromise    19563\n",
      "Not Compromised      8361\n",
      "DDOS_Slowloris        534\n",
      "Name: count, dtype: int64\n",
      "\n",
      "Reduced shape: (123117, 2)\n"
     ]
    },
    {
     "name": "stderr",
     "output_type": "stream",
     "text": [
      "C:\\Users\\gabri\\AppData\\Local\\Temp\\ipykernel_66504\\1745957727.py:15: SettingWithCopyWarning: \n",
      "A value is trying to be set on a copy of a slice from a DataFrame.\n",
      "Try using .loc[row_indexer,col_indexer] = value instead\n",
      "\n",
      "See the caveats in the documentation: https://pandas.pydata.org/pandas-docs/stable/user_guide/indexing.html#returning-a-view-versus-a-copy\n",
      "  Output[\"Attack_type_agg\"] = Output[\"Attack_type\"].apply(aggregate_label)\n"
     ]
    }
   ],
   "source": [
    "\n",
    "mapping = {\n",
    "    \"DOS_SYN_Hping\": \"DOS_SYN_Hping\",\n",
    "    \"DDOS_Slowloris\": \"DDOS_Slowloris\",\n",
    "    \"Thing_Speak\": \"Not Compromised\",\n",
    "    \"Wipro_bulb\": \"Not Compromised\",\n",
    "}\n",
    "\n",
    "# create a new aggregated column\n",
    "def aggregate_label(lbl):\n",
    "    if lbl in mapping:\n",
    "        return mapping[lbl]\n",
    "    else:\n",
    "        return \"Other Compromise\"\n",
    "\n",
    "Output[\"Attack_type_agg\"] = Output[\"Attack_type\"].apply(aggregate_label)\n",
    "\n",
    "# (Optionally) replace the original column\n",
    "# data[\"Attack_type\"] = data[\"Attack_type_agg\"]\n",
    "# data = data.drop(columns=[\"Attack_type_agg\"])  # if you replaced original differently\n",
    "\n",
    "# show new composition\n",
    "print(Output[\"Attack_type_agg\"].value_counts())\n",
    "\n",
    "# If you want to keep only rows with these four aggregated classes (they are the only ones now),\n",
    "# this is redundant because aggregation maps everything to one of the four, but:\n",
    "data_reduced = Output.copy()  # or data_reduced = data[data['Attack_type_agg'].isin([...])]\n",
    "print(\"\\nReduced shape:\", data_reduced.shape)\n",
    "\n",
    "lout = ['Attack_type_agg']\n",
    "Y = data_reduced[lout].to_numpy().reshape(-1)\n"
   ]
  },
  {
   "cell_type": "markdown",
   "id": "c4d28c91",
   "metadata": {},
   "source": [
    "# List of relevant features\n",
    "\n",
    "8 core features were chosen to capture the most distinctive statistical patterns of the three target classes: Normal, DDoS-SYN, and DDoS-Slowloris. These include flow duration, packet rate, SYN flag count, payload throughput, header size, active and idle times, and the down-to-up ratio. Together, they describe complementary aspects of network behaviour: connection length and activity timing (for Slowloris), transport-layer aggressiveness (for SYN floods), and overall balance and periodicity (for normal IoT traffic). This approach ensures that the model remains interpretable and lightweight, allowing direct attribution of Logistic Regression coefficients to specific network phenomena while maintaining compatibility with real-time, resource-constrained IoT environments.\n",
    "\n",
    "| Feature                    | Normal              | DDoS-SYN (DOS_SYN_Hping) | DDoS-Slowloris         |\n",
    "| -------------------------- | ------------------- | ------------------------ | ---------------------- |\n",
    "| `flow_duration`            | Short / periodic    | Short bursts             | Very long              |\n",
    "| `flow_SYN_flag_count`      | Low (1 per session) | Very high                | Moderate               |\n",
    "| `fwd_pkts_per_sec`         | Steady              | Very high                | Very low               |\n",
    "| `payload_bytes_per_second` | Moderate            | High                     | Very low               |\n",
    "| `fwd_header_size_max`      | Regular             | Small, fixed             | Small, irregular       |\n",
    "| `active.avg`               | Regular pattern     | Short bursts             | Long periods           |\n",
    "| `idle.avg`                 | Moderate            | ~0                       | High                   |\n",
    "| `down_up_ratio`            | Balanced            | High asymmetry           | Balanced / slight skew |\n"
   ]
  },
  {
   "cell_type": "code",
   "execution_count": 5,
   "id": "d30621d0",
   "metadata": {},
   "outputs": [],
   "source": [
    "\n",
    "#rlevant inputs to detect syn flood attack\n",
    "lin = ['flow_SYN_flag_count', 'fwd_pkts_per_sec', 'bwd_pkts_per_sec', 'payload_bytes_per_second', 'fwd_header_size_max','active.avg', 'idle.avg','down_up_ratio'  ]\n",
    "\n",
    "X = Input[lin]\n"
   ]
  },
  {
   "cell_type": "code",
   "execution_count": 6,
   "id": "8c705a77",
   "metadata": {},
   "outputs": [],
   "source": [
    "scaler = StandardScaler().fit(X)\n",
    "X = scaler.transform(X)"
   ]
  },
  {
   "cell_type": "markdown",
   "id": "20b95557",
   "metadata": {},
   "source": [
    "The data is divided into 60/20/20 (train/val/test), stratified; with the objective to  keep test untouched for the bayesian optimization."
   ]
  },
  {
   "cell_type": "code",
   "execution_count": 7,
   "id": "06abe97c",
   "metadata": {},
   "outputs": [],
   "source": [
    "\n",
    "\n",
    "# First split: 60% train, 40% temp (val+test)\n",
    "X_train, X_temp, Y_train, Y_temp = train_test_split(X, Y, test_size=0.4, random_state=42, stratify=Y)\n",
    "\n",
    "# Second split: split temp into 50/50 (20% val, 20% test)\n",
    "X_val, X_test, Y_val, Y_test = train_test_split(X_temp, Y_temp, test_size=0.5, random_state=42, stratify=Y_temp)\n"
   ]
  },
  {
   "cell_type": "code",
   "execution_count": 8,
   "id": "a48707b2",
   "metadata": {},
   "outputs": [
    {
     "name": "stdout",
     "output_type": "stream",
     "text": [
      "(73870, 8)\n",
      "(24623, 8)\n",
      "(24624, 8)\n"
     ]
    }
   ],
   "source": [
    "print(X_train.shape)\n",
    "print(X_val.shape)\n",
    "print(X_test.shape)"
   ]
  },
  {
   "cell_type": "markdown",
   "id": "f29023bb",
   "metadata": {},
   "source": [
    "# Training"
   ]
  },
  {
   "cell_type": "code",
   "execution_count": 9,
   "id": "f7dd536b",
   "metadata": {},
   "outputs": [
    {
     "name": "stdout",
     "output_type": "stream",
     "text": [
      "Training Confusion Matrix\n",
      "[[  307     0     3    10]\n",
      " [    0 56795     0     0]\n",
      " [   29    12  4765   211]\n",
      " [  677    18  1488  9555]]\n",
      "\n",
      "Training accuracy = 0.9668607012318938\n",
      "\n",
      "Testing Confusion Matrix\n",
      "[[  101     0     3     3]\n",
      " [    0 18932     0     0]\n",
      " [   14     4  1576    78]\n",
      " [  216    11   495  3191]]\n",
      "\n",
      "Testing accuracy = 0.9665367121507472\n"
     ]
    },
    {
     "name": "stderr",
     "output_type": "stream",
     "text": [
      "C:\\Users\\gabri\\AppData\\Local\\Packages\\PythonSoftwareFoundation.Python.3.11_qbz5n2kfra8p0\\LocalCache\\local-packages\\Python311\\site-packages\\sklearn\\linear_model\\_logistic.py:473: ConvergenceWarning: lbfgs failed to converge after 500 iteration(s) (status=1):\n",
      "STOP: TOTAL NO. OF ITERATIONS REACHED LIMIT\n",
      "\n",
      "Increase the number of iterations to improve the convergence (max_iter=500).\n",
      "You might also want to scale the data as shown in:\n",
      "    https://scikit-learn.org/stable/modules/preprocessing.html\n",
      "Please also refer to the documentation for alternative solver options:\n",
      "    https://scikit-learn.org/stable/modules/linear_model.html#logistic-regression\n",
      "  n_iter_i = _check_optimize_result(\n"
     ]
    }
   ],
   "source": [
    "# define the model\n",
    "model = LogisticRegression(penalty=None, class_weight='balanced', max_iter=500)\n",
    "# train the model\n",
    "model.fit(X_train, Y_train)\n",
    "# create the predictions\n",
    "Y_train_pred = model.predict(X_train)\n",
    "Y_test_pred = model.predict(X_test)\n",
    "# build the confusion matrices\n",
    "confusion_matrix_train = confusion_matrix(Y_train, Y_train_pred)\n",
    "confusion_matrix_test = confusion_matrix(Y_test, Y_test_pred)\n",
    "# calculate accuracies\n",
    "train_accuracy = accuracy_score(Y_train, Y_train_pred)\n",
    "test_accuracy = accuracy_score(Y_test, Y_test_pred)\n",
    "# display the results\n",
    "print('Training Confusion Matrix')\n",
    "print(confusion_matrix_train)\n",
    "print()\n",
    "print(f'Training accuracy = {train_accuracy}')\n",
    "print()\n",
    "print('Testing Confusion Matrix')\n",
    "print(confusion_matrix_test)\n",
    "print()\n",
    "print(f'Testing accuracy = {test_accuracy}')"
   ]
  },
  {
   "cell_type": "code",
   "execution_count": 10,
   "id": "ae91084b",
   "metadata": {},
   "outputs": [
    {
     "name": "stdout",
     "output_type": "stream",
     "text": [
      "                  precision    recall  f1-score   support\n",
      "\n",
      "  DDOS_Slowloris     0.3051    0.9439    0.4612       107\n",
      "   DOS_SYN_Hping     0.9992    1.0000    0.9996     18932\n",
      " Not Compromised     0.7599    0.9426    0.8414      1672\n",
      "Other Compromise     0.9752    0.8155    0.8882      3913\n",
      "\n",
      "        accuracy                         0.9665     24624\n",
      "       macro avg     0.7599    0.9255    0.7976     24624\n",
      "    weighted avg     0.9761    0.9665    0.9688     24624\n",
      "\n"
     ]
    }
   ],
   "source": [
    "# Compute per class\n",
    "from sklearn.metrics import classification_report\n",
    "print(classification_report(Y_test, Y_test_pred, digits=4))"
   ]
  },
  {
   "cell_type": "markdown",
   "id": "37d411d2",
   "metadata": {},
   "source": [
    "# Regularization\n",
    "\n",
    "Note that the new penalisation means that $\\beta$ should be closer to zero (this is what we mean by 'a simpler model').\n",
    "\n",
    "For later stages these hyperparameters will be optimized with Bayesian optimization\n",
    "<ul>\n",
    "    <li>Regularisation strength \"C\"\n",
    "    <li>Penalty (categorical: L2 vs. L1 vs. elastic-net)\n",
    "    <li>Class-weight scaling (continuous multiplier on “balanced”: e.g. 0.5–2.0)\n",
    "</ul>"
   ]
  },
  {
   "cell_type": "code",
   "execution_count": 13,
   "id": "5ecd224b",
   "metadata": {},
   "outputs": [
    {
     "name": "stdout",
     "output_type": "stream",
     "text": [
      "Best test accuracy was achieved with C = 0.00959803015075377, giving an accuracy of 0.9469601592007473.\n",
      "Without regularisation, we achieved an accuracy of 0.9665367121507472.\n",
      "\n"
     ]
    },
    {
     "data": {
      "image/png": "[encoded data removed]",
      "text/plain": [
       "<Figure size 640x480 with 1 Axes>"
      ]
     },
     "metadata": {},
     "output_type": "display_data"
    }
   ],
   "source": [
    "\n",
    "C_space = np.linspace(1e-6, 1e-2, 200)\n",
    "accuracies = []\n",
    "\n",
    "for C in C_space:\n",
    "  model = LogisticRegression(penalty = 'l2', C = C)\n",
    "  model.fit(X_train, Y_train)\n",
    "  Y_val_pred = model.predict(X_val)\n",
    "  accuracies.append(accuracy_score(Y_val, Y_val_pred))\n",
    "\n",
    "plt.plot(C_space, accuracies)\n",
    "plt.xlabel('C')\n",
    "plt.ylabel('Testing Accuracy')\n",
    "plt.title('Analysis of Regularisation')\n",
    "\n",
    "best_model = np.argmax(accuracies)\n",
    "best_accuracy = accuracies[best_model]\n",
    "best_C = C_space[best_model]\n",
    "\n",
    "print(f'Best test accuracy was achieved with C = {best_C}, giving an accuracy of {best_accuracy}.') \n",
    "print(f'Without regularisation, we achieved an accuracy of {test_accuracy}.')\n",
    "print()"
   ]
  },
  {
   "cell_type": "code",
   "execution_count": 14,
   "id": "3ac7f386",
   "metadata": {},
   "outputs": [
    {
     "name": "stdout",
     "output_type": "stream",
     "text": [
      "                  precision    recall  f1-score   support\n",
      "\n",
      "  DDOS_Slowloris     0.3051    0.9439    0.4612       107\n",
      "   DOS_SYN_Hping     0.9992    1.0000    0.9996     18932\n",
      " Not Compromised     0.7599    0.9426    0.8414      1672\n",
      "Other Compromise     0.9752    0.8155    0.8882      3913\n",
      "\n",
      "        accuracy                         0.9665     24624\n",
      "       macro avg     0.7599    0.9255    0.7976     24624\n",
      "    weighted avg     0.9761    0.9665    0.9688     24624\n",
      "\n"
     ]
    }
   ],
   "source": [
    "# Compute per class\n",
    "print(classification_report(Y_test, Y_test_pred, digits=4))"
   ]
  },
  {
   "cell_type": "markdown",
   "id": "52ee5ab2",
   "metadata": {},
   "source": [
    "# After regularization metrics\n"
   ]
  },
  {
   "cell_type": "code",
   "execution_count": 15,
   "id": "1515510e",
   "metadata": {},
   "outputs": [
    {
     "data": {
      "image/png": "[encoded data removed]",
      "text/plain": [
       "<Figure size 800x500 with 1 Axes>"
      ]
     },
     "metadata": {},
     "output_type": "display_data"
    }
   ],
   "source": [
    "\n",
    "# --- Choose the class you want to analyze ---\n",
    "target_label = \"DOS_SYN_Hping\"   # change as needed\n",
    "\n",
    "# --- Get class index directly from model ---\n",
    "classes = model.classes_\n",
    "if target_label not in classes:\n",
    "    raise ValueError(f\"{target_label} not found in model classes: {classes}\")\n",
    "pos_idx = np.where(classes == target_label)[0][0]\n",
    "\n",
    "# --- Get predicted probabilities for that class ---\n",
    "y_proba = model.predict_proba(X_test)[:, pos_idx]\n",
    "\n",
    "# --- Convert true labels to binary (1 = target, 0 = others) ---\n",
    "y_true_bin = (Y_test == target_label).astype(int)\n",
    "\n",
    "# --- Sweep thresholds and compute FNR/FPR ---\n",
    "thresholds = np.linspace(0, 1, 101)\n",
    "fnr_list, fpr_list = [], []\n",
    "\n",
    "for t in thresholds:\n",
    "    y_pred_bin = (y_proba >= t).astype(int)\n",
    "    tn, fp, fn, tp = confusion_matrix(y_true_bin, y_pred_bin, labels=[0, 1]).ravel()\n",
    "    fnr = fn / (fn + tp) if (fn + tp) > 0 else 0.0\n",
    "    fpr = fp / (fp + tn) if (fp + tn) > 0 else 0.0\n",
    "    fnr_list.append(fnr)\n",
    "    fpr_list.append(fpr)\n",
    "\n",
    "# --- Plot ---\n",
    "plt.figure(figsize=(8, 5))\n",
    "plt.plot(thresholds, fnr_list, label=\"False Negative Rate (FNR)\", linewidth=2)\n",
    "plt.plot(thresholds, fpr_list, label=\"False Positive Rate (FPR)\", linewidth=2)\n",
    "plt.xlabel(\"Decision Threshold\", fontsize=12)\n",
    "plt.ylabel(\"Rate\", fontsize=12)\n",
    "plt.title(f\"FNR and FPR vs Probability Threshold\\n(Class: {target_label})\", fontsize=13)\n",
    "plt.legend()\n",
    "plt.grid(True)\n",
    "plt.show()\n"
   ]
  },
  {
   "cell_type": "markdown",
   "id": "2662c96f",
   "metadata": {},
   "source": [
    "# Bayesian Optimization \n",
    "Bayesian Optimization loop that maximizes macro-F1 on the validation set to tune C for Logistic Regression. It builds a fresh Pipeline (StandardScaler + Multinomial LR) each trial\n",
    "\n",
    "| Step                   | Purpose                                                                                                |\n",
    "| ---------------------- | ------------------------------------------------------------------------------------------------------ |\n",
    "| `penalty_flag`         | Encodes `'l1'` and `'l2'` as numeric values (0–1) for the optimizer                                    |\n",
    "| `solver` switch        | `saga` supports both L1 and L2; `lbfgs` supports L2 only                                               |\n",
    "| `objective()`          | Fits the model with the current `(C, penalty)` and returns macro-F1 on validation set                  |\n",
    "| `BayesianOptimization` | Builds a probabilistic model of F1 across these parameters to pick the next most promising combination |\n",
    "| `optimizer.max`        | Returns the best found parameters and score                                                            |\n",
    "| Retraining step        | Trains one final model on all train+val data with best parameters and evaluates on test                |\n"
   ]
  },
  {
   "cell_type": "code",
   "execution_count": 16,
   "id": "6ea924f4",
   "metadata": {},
   "outputs": [],
   "source": [
    "from bayes_opt import BayesianOptimization\n",
    "from sklearn.pipeline import Pipeline\n",
    "from sklearn.metrics import classification_report, confusion_matrix, f1_score"
   ]
  },
  {
   "cell_type": "code",
   "execution_count": 22,
   "id": "29031598",
   "metadata": {},
   "outputs": [],
   "source": [
    "# Create pipeline: scaling + logistic regression\n",
    "\n",
    "def make_pipe(C_val: float, penalty_type: str) -> Pipeline:\n",
    "    solver = \"saga\" if penalty_type == \"l1\" else \"lbfgs\"\n",
    "    return Pipeline([\n",
    "        (\"scaler\", StandardScaler()),\n",
    "        (\"clf\", LogisticRegression(\n",
    "            penalty=penalty_type,\n",
    "            solver=solver,\n",
    "            multi_class=\"multinomial\",\n",
    "            class_weight=\"balanced\",\n",
    "            max_iter=3000,\n",
    "            n_jobs=-1,\n",
    "            C= best_C\n",
    "        ))\n",
    "    ])"
   ]
  },
  {
   "cell_type": "code",
   "execution_count": 25,
   "id": "5c30ae70",
   "metadata": {},
   "outputs": [
    {
     "name": "stdout",
     "output_type": "stream",
     "text": [
      "\n",
      "Running Bayesian Optimization for C and penalty...\n",
      "|   iter    |  target   |  log10_C  | penalt... |\n",
      "-------------------------------------------------\n"
     ]
    },
    {
     "name": "stderr",
     "output_type": "stream",
     "text": [
      "C:\\Users\\gabri\\AppData\\Local\\Packages\\PythonSoftwareFoundation.Python.3.11_qbz5n2kfra8p0\\LocalCache\\local-packages\\Python311\\site-packages\\sklearn\\linear_model\\_logistic.py:1272: FutureWarning: 'multi_class' was deprecated in version 1.5 and will be removed in 1.8. From then on, it will always use 'multinomial'. Leave it to its default value to avoid this warning.\n",
      "  warnings.warn(\n"
     ]
    },
    {
     "name": "stdout",
     "output_type": "stream",
     "text": [
      "| \u001b[39m1        \u001b[39m | \u001b[39m0.5859864\u001b[39m | \u001b[39m-3.003679\u001b[39m | \u001b[39m0.9507143\u001b[39m |\n"
     ]
    },
    {
     "name": "stderr",
     "output_type": "stream",
     "text": [
      "C:\\Users\\gabri\\AppData\\Local\\Packages\\PythonSoftwareFoundation.Python.3.11_qbz5n2kfra8p0\\LocalCache\\local-packages\\Python311\\site-packages\\sklearn\\linear_model\\_logistic.py:1272: FutureWarning: 'multi_class' was deprecated in version 1.5 and will be removed in 1.8. From then on, it will always use 'multinomial'. Leave it to its default value to avoid this warning.\n",
      "  warnings.warn(\n"
     ]
    },
    {
     "name": "stdout",
     "output_type": "stream",
     "text": [
      "| \u001b[39m2        \u001b[39m | \u001b[39m0.5859864\u001b[39m | \u001b[39m-0.144048\u001b[39m | \u001b[39m0.5986584\u001b[39m |\n"
     ]
    },
    {
     "name": "stderr",
     "output_type": "stream",
     "text": [
      "C:\\Users\\gabri\\AppData\\Local\\Packages\\PythonSoftwareFoundation.Python.3.11_qbz5n2kfra8p0\\LocalCache\\local-packages\\Python311\\site-packages\\sklearn\\linear_model\\_logistic.py:1272: FutureWarning: 'multi_class' was deprecated in version 1.5 and will be removed in 1.8. From then on, it will always use 'multinomial'. Leave it to its default value to avoid this warning.\n",
      "  warnings.warn(\n"
     ]
    },
    {
     "name": "stdout",
     "output_type": "stream",
     "text": [
      "| \u001b[39m3        \u001b[39m | \u001b[39m0.5736523\u001b[39m | \u001b[39m-4.751850\u001b[39m | \u001b[39m0.1559945\u001b[39m |\n"
     ]
    },
    {
     "name": "stderr",
     "output_type": "stream",
     "text": [
      "C:\\Users\\gabri\\AppData\\Local\\Packages\\PythonSoftwareFoundation.Python.3.11_qbz5n2kfra8p0\\LocalCache\\local-packages\\Python311\\site-packages\\sklearn\\linear_model\\_logistic.py:1272: FutureWarning: 'multi_class' was deprecated in version 1.5 and will be removed in 1.8. From then on, it will always use 'multinomial'. Leave it to its default value to avoid this warning.\n",
      "  warnings.warn(\n"
     ]
    },
    {
     "name": "stdout",
     "output_type": "stream",
     "text": [
      "| \u001b[39m4        \u001b[39m | \u001b[39m0.5859864\u001b[39m | \u001b[39m-5.535331\u001b[39m | \u001b[39m0.8661761\u001b[39m |\n"
     ]
    },
    {
     "name": "stderr",
     "output_type": "stream",
     "text": [
      "C:\\Users\\gabri\\AppData\\Local\\Packages\\PythonSoftwareFoundation.Python.3.11_qbz5n2kfra8p0\\LocalCache\\local-packages\\Python311\\site-packages\\sklearn\\linear_model\\_logistic.py:1272: FutureWarning: 'multi_class' was deprecated in version 1.5 and will be removed in 1.8. From then on, it will always use 'multinomial'. Leave it to its default value to avoid this warning.\n",
      "  warnings.warn(\n"
     ]
    },
    {
     "name": "stdout",
     "output_type": "stream",
     "text": [
      "| \u001b[39m5        \u001b[39m | \u001b[39m0.5859864\u001b[39m | \u001b[39m-1.191079\u001b[39m | \u001b[39m0.7080725\u001b[39m |\n"
     ]
    },
    {
     "name": "stderr",
     "output_type": "stream",
     "text": [
      "C:\\Users\\gabri\\AppData\\Local\\Packages\\PythonSoftwareFoundation.Python.3.11_qbz5n2kfra8p0\\LocalCache\\local-packages\\Python311\\site-packages\\sklearn\\linear_model\\_logistic.py:1272: FutureWarning: 'multi_class' was deprecated in version 1.5 and will be removed in 1.8. From then on, it will always use 'multinomial'. Leave it to its default value to avoid this warning.\n",
      "  warnings.warn(\n"
     ]
    },
    {
     "name": "stdout",
     "output_type": "stream",
     "text": [
      "| \u001b[39m6        \u001b[39m | \u001b[39m0.5859864\u001b[39m | \u001b[39m-0.149903\u001b[39m | \u001b[39m0.6666855\u001b[39m |\n"
     ]
    },
    {
     "name": "stderr",
     "output_type": "stream",
     "text": [
      "C:\\Users\\gabri\\AppData\\Local\\Packages\\PythonSoftwareFoundation.Python.3.11_qbz5n2kfra8p0\\LocalCache\\local-packages\\Python311\\site-packages\\sklearn\\linear_model\\_logistic.py:1272: FutureWarning: 'multi_class' was deprecated in version 1.5 and will be removed in 1.8. From then on, it will always use 'multinomial'. Leave it to its default value to avoid this warning.\n",
      "  warnings.warn(\n"
     ]
    },
    {
     "name": "stdout",
     "output_type": "stream",
     "text": [
      "| \u001b[39m7        \u001b[39m | \u001b[39m0.5737618\u001b[39m | \u001b[39m-2.201081\u001b[39m | \u001b[39m0.1492356\u001b[39m |\n"
     ]
    },
    {
     "name": "stderr",
     "output_type": "stream",
     "text": [
      "C:\\Users\\gabri\\AppData\\Local\\Packages\\PythonSoftwareFoundation.Python.3.11_qbz5n2kfra8p0\\LocalCache\\local-packages\\Python311\\site-packages\\sklearn\\linear_model\\_logistic.py:1272: FutureWarning: 'multi_class' was deprecated in version 1.5 and will be removed in 1.8. From then on, it will always use 'multinomial'. Leave it to its default value to avoid this warning.\n",
      "  warnings.warn(\n"
     ]
    },
    {
     "name": "stdout",
     "output_type": "stream",
     "text": [
      "| \u001b[39m8        \u001b[39m | \u001b[39m0.5737618\u001b[39m | \u001b[39m-0.755187\u001b[39m | \u001b[39m0.0897164\u001b[39m |\n"
     ]
    },
    {
     "name": "stderr",
     "output_type": "stream",
     "text": [
      "C:\\Users\\gabri\\AppData\\Local\\Packages\\PythonSoftwareFoundation.Python.3.11_qbz5n2kfra8p0\\LocalCache\\local-packages\\Python311\\site-packages\\sklearn\\linear_model\\_logistic.py:1272: FutureWarning: 'multi_class' was deprecated in version 1.5 and will be removed in 1.8. From then on, it will always use 'multinomial'. Leave it to its default value to avoid this warning.\n",
      "  warnings.warn(\n"
     ]
    },
    {
     "name": "stdout",
     "output_type": "stream",
     "text": [
      "| \u001b[39m9        \u001b[39m | \u001b[39m0.5859864\u001b[39m | \u001b[39m-0.768788\u001b[39m | \u001b[39m1.0      \u001b[39m |\n"
     ]
    },
    {
     "name": "stderr",
     "output_type": "stream",
     "text": [
      "C:\\Users\\gabri\\AppData\\Local\\Packages\\PythonSoftwareFoundation.Python.3.11_qbz5n2kfra8p0\\LocalCache\\local-packages\\Python311\\site-packages\\sklearn\\linear_model\\_logistic.py:1272: FutureWarning: 'multi_class' was deprecated in version 1.5 and will be removed in 1.8. From then on, it will always use 'multinomial'. Leave it to its default value to avoid this warning.\n",
      "  warnings.warn(\n"
     ]
    },
    {
     "name": "stdout",
     "output_type": "stream",
     "text": [
      "| \u001b[39m10       \u001b[39m | \u001b[39m0.5859864\u001b[39m | \u001b[39m0.4597311\u001b[39m | \u001b[39m0.6108967\u001b[39m |\n"
     ]
    },
    {
     "name": "stderr",
     "output_type": "stream",
     "text": [
      "C:\\Users\\gabri\\AppData\\Local\\Packages\\PythonSoftwareFoundation.Python.3.11_qbz5n2kfra8p0\\LocalCache\\local-packages\\Python311\\site-packages\\sklearn\\linear_model\\_logistic.py:1272: FutureWarning: 'multi_class' was deprecated in version 1.5 and will be removed in 1.8. From then on, it will always use 'multinomial'. Leave it to its default value to avoid this warning.\n",
      "  warnings.warn(\n"
     ]
    },
    {
     "name": "stdout",
     "output_type": "stream",
     "text": [
      "| \u001b[39m11       \u001b[39m | \u001b[39m0.5859864\u001b[39m | \u001b[39m-3.639725\u001b[39m | \u001b[39m1.0      \u001b[39m |\n"
     ]
    },
    {
     "name": "stderr",
     "output_type": "stream",
     "text": [
      "C:\\Users\\gabri\\AppData\\Local\\Packages\\PythonSoftwareFoundation.Python.3.11_qbz5n2kfra8p0\\LocalCache\\local-packages\\Python311\\site-packages\\sklearn\\linear_model\\_logistic.py:1272: FutureWarning: 'multi_class' was deprecated in version 1.5 and will be removed in 1.8. From then on, it will always use 'multinomial'. Leave it to its default value to avoid this warning.\n",
      "  warnings.warn(\n"
     ]
    },
    {
     "name": "stdout",
     "output_type": "stream",
     "text": [
      "| \u001b[39m12       \u001b[39m | \u001b[39m0.5859864\u001b[39m | \u001b[39m-1.308158\u001b[39m | \u001b[39m0.9808633\u001b[39m |\n"
     ]
    },
    {
     "name": "stderr",
     "output_type": "stream",
     "text": [
      "C:\\Users\\gabri\\AppData\\Local\\Packages\\PythonSoftwareFoundation.Python.3.11_qbz5n2kfra8p0\\LocalCache\\local-packages\\Python311\\site-packages\\sklearn\\linear_model\\_logistic.py:1272: FutureWarning: 'multi_class' was deprecated in version 1.5 and will be removed in 1.8. From then on, it will always use 'multinomial'. Leave it to its default value to avoid this warning.\n",
      "  warnings.warn(\n"
     ]
    },
    {
     "name": "stdout",
     "output_type": "stream",
     "text": [
      "| \u001b[39m13       \u001b[39m | \u001b[39m0.5736523\u001b[39m | \u001b[39m1.1392784\u001b[39m | \u001b[39m0.0      \u001b[39m |\n"
     ]
    },
    {
     "name": "stderr",
     "output_type": "stream",
     "text": [
      "C:\\Users\\gabri\\AppData\\Local\\Packages\\PythonSoftwareFoundation.Python.3.11_qbz5n2kfra8p0\\LocalCache\\local-packages\\Python311\\site-packages\\sklearn\\linear_model\\_logistic.py:1272: FutureWarning: 'multi_class' was deprecated in version 1.5 and will be removed in 1.8. From then on, it will always use 'multinomial'. Leave it to its default value to avoid this warning.\n",
      "  warnings.warn(\n"
     ]
    },
    {
     "name": "stdout",
     "output_type": "stream",
     "text": [
      "| \u001b[39m14       \u001b[39m | \u001b[39m0.5737618\u001b[39m | \u001b[39m-2.798273\u001b[39m | \u001b[39m0.2034484\u001b[39m |\n"
     ]
    },
    {
     "name": "stderr",
     "output_type": "stream",
     "text": [
      "C:\\Users\\gabri\\AppData\\Local\\Packages\\PythonSoftwareFoundation.Python.3.11_qbz5n2kfra8p0\\LocalCache\\local-packages\\Python311\\site-packages\\sklearn\\linear_model\\_logistic.py:1272: FutureWarning: 'multi_class' was deprecated in version 1.5 and will be removed in 1.8. From then on, it will always use 'multinomial'. Leave it to its default value to avoid this warning.\n",
      "  warnings.warn(\n"
     ]
    },
    {
     "name": "stdout",
     "output_type": "stream",
     "text": [
      "| \u001b[39m15       \u001b[39m | \u001b[39m0.5737618\u001b[39m | \u001b[39m-6.0     \u001b[39m | \u001b[39m0.3583181\u001b[39m |\n"
     ]
    },
    {
     "name": "stderr",
     "output_type": "stream",
     "text": [
      "C:\\Users\\gabri\\AppData\\Local\\Packages\\PythonSoftwareFoundation.Python.3.11_qbz5n2kfra8p0\\LocalCache\\local-packages\\Python311\\site-packages\\sklearn\\linear_model\\_logistic.py:1272: FutureWarning: 'multi_class' was deprecated in version 1.5 and will be removed in 1.8. From then on, it will always use 'multinomial'. Leave it to its default value to avoid this warning.\n",
      "  warnings.warn(\n"
     ]
    },
    {
     "name": "stdout",
     "output_type": "stream",
     "text": [
      "| \u001b[39m16       \u001b[39m | \u001b[39m0.5859864\u001b[39m | \u001b[39m-3.019308\u001b[39m | \u001b[39m0.7212937\u001b[39m |\n"
     ]
    },
    {
     "name": "stderr",
     "output_type": "stream",
     "text": [
      "C:\\Users\\gabri\\AppData\\Local\\Packages\\PythonSoftwareFoundation.Python.3.11_qbz5n2kfra8p0\\LocalCache\\local-packages\\Python311\\site-packages\\sklearn\\linear_model\\_logistic.py:1272: FutureWarning: 'multi_class' was deprecated in version 1.5 and will be removed in 1.8. From then on, it will always use 'multinomial'. Leave it to its default value to avoid this warning.\n",
      "  warnings.warn(\n"
     ]
    },
    {
     "name": "stdout",
     "output_type": "stream",
     "text": [
      "| \u001b[39m17       \u001b[39m | \u001b[39m0.5736523\u001b[39m | \u001b[39m-4.358974\u001b[39m | \u001b[39m0.0952688\u001b[39m |\n"
     ]
    },
    {
     "name": "stderr",
     "output_type": "stream",
     "text": [
      "C:\\Users\\gabri\\AppData\\Local\\Packages\\PythonSoftwareFoundation.Python.3.11_qbz5n2kfra8p0\\LocalCache\\local-packages\\Python311\\site-packages\\sklearn\\linear_model\\_logistic.py:1272: FutureWarning: 'multi_class' was deprecated in version 1.5 and will be removed in 1.8. From then on, it will always use 'multinomial'. Leave it to its default value to avoid this warning.\n",
      "  warnings.warn(\n"
     ]
    },
    {
     "name": "stdout",
     "output_type": "stream",
     "text": [
      "| \u001b[39m18       \u001b[39m | \u001b[39m0.5859864\u001b[39m | \u001b[39m-4.992034\u001b[39m | \u001b[39m1.0      \u001b[39m |\n"
     ]
    },
    {
     "name": "stderr",
     "output_type": "stream",
     "text": [
      "C:\\Users\\gabri\\AppData\\Local\\Packages\\PythonSoftwareFoundation.Python.3.11_qbz5n2kfra8p0\\LocalCache\\local-packages\\Python311\\site-packages\\sklearn\\linear_model\\_logistic.py:1272: FutureWarning: 'multi_class' was deprecated in version 1.5 and will be removed in 1.8. From then on, it will always use 'multinomial'. Leave it to its default value to avoid this warning.\n",
      "  warnings.warn(\n"
     ]
    },
    {
     "name": "stdout",
     "output_type": "stream",
     "text": [
      "| \u001b[39m19       \u001b[39m | \u001b[39m0.5859864\u001b[39m | \u001b[39m2.0      \u001b[39m | \u001b[39m1.0      \u001b[39m |\n"
     ]
    },
    {
     "name": "stderr",
     "output_type": "stream",
     "text": [
      "C:\\Users\\gabri\\AppData\\Local\\Packages\\PythonSoftwareFoundation.Python.3.11_qbz5n2kfra8p0\\LocalCache\\local-packages\\Python311\\site-packages\\sklearn\\linear_model\\_logistic.py:1272: FutureWarning: 'multi_class' was deprecated in version 1.5 and will be removed in 1.8. From then on, it will always use 'multinomial'. Leave it to its default value to avoid this warning.\n",
      "  warnings.warn(\n"
     ]
    },
    {
     "name": "stdout",
     "output_type": "stream",
     "text": [
      "| \u001b[39m20       \u001b[39m | \u001b[39m0.5859864\u001b[39m | \u001b[39m1.1704924\u001b[39m | \u001b[39m1.0      \u001b[39m |\n"
     ]
    },
    {
     "name": "stderr",
     "output_type": "stream",
     "text": [
      "C:\\Users\\gabri\\AppData\\Local\\Packages\\PythonSoftwareFoundation.Python.3.11_qbz5n2kfra8p0\\LocalCache\\local-packages\\Python311\\site-packages\\sklearn\\linear_model\\_logistic.py:1272: FutureWarning: 'multi_class' was deprecated in version 1.5 and will be removed in 1.8. From then on, it will always use 'multinomial'. Leave it to its default value to avoid this warning.\n",
      "  warnings.warn(\n"
     ]
    },
    {
     "name": "stdout",
     "output_type": "stream",
     "text": [
      "| \u001b[39m21       \u001b[39m | \u001b[39m0.5859864\u001b[39m | \u001b[39m-2.413707\u001b[39m | \u001b[39m0.5601949\u001b[39m |\n"
     ]
    },
    {
     "name": "stderr",
     "output_type": "stream",
     "text": [
      "C:\\Users\\gabri\\AppData\\Local\\Packages\\PythonSoftwareFoundation.Python.3.11_qbz5n2kfra8p0\\LocalCache\\local-packages\\Python311\\site-packages\\sklearn\\linear_model\\_logistic.py:1272: FutureWarning: 'multi_class' was deprecated in version 1.5 and will be removed in 1.8. From then on, it will always use 'multinomial'. Leave it to its default value to avoid this warning.\n",
      "  warnings.warn(\n"
     ]
    },
    {
     "name": "stdout",
     "output_type": "stream",
     "text": [
      "| \u001b[39m22       \u001b[39m | \u001b[39m0.5736523\u001b[39m | \u001b[39m-3.288193\u001b[39m | \u001b[39m0.1019048\u001b[39m |\n"
     ]
    },
    {
     "name": "stderr",
     "output_type": "stream",
     "text": [
      "C:\\Users\\gabri\\AppData\\Local\\Packages\\PythonSoftwareFoundation.Python.3.11_qbz5n2kfra8p0\\LocalCache\\local-packages\\Python311\\site-packages\\sklearn\\linear_model\\_logistic.py:1272: FutureWarning: 'multi_class' was deprecated in version 1.5 and will be removed in 1.8. From then on, it will always use 'multinomial'. Leave it to its default value to avoid this warning.\n",
      "  warnings.warn(\n"
     ]
    },
    {
     "name": "stdout",
     "output_type": "stream",
     "text": [
      "| \u001b[39m23       \u001b[39m | \u001b[39m0.5859864\u001b[39m | \u001b[39m-2.196093\u001b[39m | \u001b[39m1.0      \u001b[39m |\n"
     ]
    },
    {
     "name": "stderr",
     "output_type": "stream",
     "text": [
      "C:\\Users\\gabri\\AppData\\Local\\Packages\\PythonSoftwareFoundation.Python.3.11_qbz5n2kfra8p0\\LocalCache\\local-packages\\Python311\\site-packages\\sklearn\\linear_model\\_logistic.py:1272: FutureWarning: 'multi_class' was deprecated in version 1.5 and will be removed in 1.8. From then on, it will always use 'multinomial'. Leave it to its default value to avoid this warning.\n",
      "  warnings.warn(\n"
     ]
    },
    {
     "name": "stdout",
     "output_type": "stream",
     "text": [
      "| \u001b[39m24       \u001b[39m | \u001b[39m0.5859864\u001b[39m | \u001b[39m0.4384136\u001b[39m | \u001b[39m1.0      \u001b[39m |\n"
     ]
    },
    {
     "name": "stderr",
     "output_type": "stream",
     "text": [
      "C:\\Users\\gabri\\AppData\\Local\\Packages\\PythonSoftwareFoundation.Python.3.11_qbz5n2kfra8p0\\LocalCache\\local-packages\\Python311\\site-packages\\sklearn\\linear_model\\_logistic.py:1272: FutureWarning: 'multi_class' was deprecated in version 1.5 and will be removed in 1.8. From then on, it will always use 'multinomial'. Leave it to its default value to avoid this warning.\n",
      "  warnings.warn(\n"
     ]
    },
    {
     "name": "stdout",
     "output_type": "stream",
     "text": [
      "| \u001b[39m25       \u001b[39m | \u001b[39m0.5859864\u001b[39m | \u001b[39m-0.151469\u001b[39m | \u001b[39m0.6069303\u001b[39m |\n"
     ]
    },
    {
     "name": "stderr",
     "output_type": "stream",
     "text": [
      "C:\\Users\\gabri\\AppData\\Local\\Packages\\PythonSoftwareFoundation.Python.3.11_qbz5n2kfra8p0\\LocalCache\\local-packages\\Python311\\site-packages\\sklearn\\linear_model\\_logistic.py:1272: FutureWarning: 'multi_class' was deprecated in version 1.5 and will be removed in 1.8. From then on, it will always use 'multinomial'. Leave it to its default value to avoid this warning.\n",
      "  warnings.warn(\n"
     ]
    },
    {
     "name": "stdout",
     "output_type": "stream",
     "text": [
      "| \u001b[39m26       \u001b[39m | \u001b[39m0.5859864\u001b[39m | \u001b[39m-4.268851\u001b[39m | \u001b[39m1.0      \u001b[39m |\n"
     ]
    },
    {
     "name": "stderr",
     "output_type": "stream",
     "text": [
      "C:\\Users\\gabri\\AppData\\Local\\Packages\\PythonSoftwareFoundation.Python.3.11_qbz5n2kfra8p0\\LocalCache\\local-packages\\Python311\\site-packages\\sklearn\\linear_model\\_logistic.py:1272: FutureWarning: 'multi_class' was deprecated in version 1.5 and will be removed in 1.8. From then on, it will always use 'multinomial'. Leave it to its default value to avoid this warning.\n",
      "  warnings.warn(\n"
     ]
    },
    {
     "name": "stdout",
     "output_type": "stream",
     "text": [
      "| \u001b[39m27       \u001b[39m | \u001b[39m0.5737618\u001b[39m | \u001b[39m2.0      \u001b[39m | \u001b[39m0.3839602\u001b[39m |\n"
     ]
    },
    {
     "name": "stderr",
     "output_type": "stream",
     "text": [
      "C:\\Users\\gabri\\AppData\\Local\\Packages\\PythonSoftwareFoundation.Python.3.11_qbz5n2kfra8p0\\LocalCache\\local-packages\\Python311\\site-packages\\sklearn\\linear_model\\_logistic.py:1272: FutureWarning: 'multi_class' was deprecated in version 1.5 and will be removed in 1.8. From then on, it will always use 'multinomial'. Leave it to its default value to avoid this warning.\n",
      "  warnings.warn(\n"
     ]
    },
    {
     "name": "stdout",
     "output_type": "stream",
     "text": [
      "| \u001b[39m28       \u001b[39m | \u001b[39m0.5859864\u001b[39m | \u001b[39m-2.590200\u001b[39m | \u001b[39m0.8886082\u001b[39m |\n"
     ]
    },
    {
     "name": "stderr",
     "output_type": "stream",
     "text": [
      "C:\\Users\\gabri\\AppData\\Local\\Packages\\PythonSoftwareFoundation.Python.3.11_qbz5n2kfra8p0\\LocalCache\\local-packages\\Python311\\site-packages\\sklearn\\linear_model\\_logistic.py:1272: FutureWarning: 'multi_class' was deprecated in version 1.5 and will be removed in 1.8. From then on, it will always use 'multinomial'. Leave it to its default value to avoid this warning.\n",
      "  warnings.warn(\n"
     ]
    },
    {
     "name": "stdout",
     "output_type": "stream",
     "text": [
      "| \u001b[39m29       \u001b[39m | \u001b[39m0.5859864\u001b[39m | \u001b[39m-1.767459\u001b[39m | \u001b[39m0.7375765\u001b[39m |\n"
     ]
    },
    {
     "name": "stderr",
     "output_type": "stream",
     "text": [
      "C:\\Users\\gabri\\AppData\\Local\\Packages\\PythonSoftwareFoundation.Python.3.11_qbz5n2kfra8p0\\LocalCache\\local-packages\\Python311\\site-packages\\sklearn\\linear_model\\_logistic.py:1272: FutureWarning: 'multi_class' was deprecated in version 1.5 and will be removed in 1.8. From then on, it will always use 'multinomial'. Leave it to its default value to avoid this warning.\n",
      "  warnings.warn(\n"
     ]
    },
    {
     "name": "stdout",
     "output_type": "stream",
     "text": [
      "| \u001b[39m30       \u001b[39m | \u001b[39m0.5859864\u001b[39m | \u001b[39m-6.0     \u001b[39m | \u001b[39m1.0      \u001b[39m |\n"
     ]
    },
    {
     "name": "stderr",
     "output_type": "stream",
     "text": [
      "C:\\Users\\gabri\\AppData\\Local\\Packages\\PythonSoftwareFoundation.Python.3.11_qbz5n2kfra8p0\\LocalCache\\local-packages\\Python311\\site-packages\\sklearn\\linear_model\\_logistic.py:1272: FutureWarning: 'multi_class' was deprecated in version 1.5 and will be removed in 1.8. From then on, it will always use 'multinomial'. Leave it to its default value to avoid this warning.\n",
      "  warnings.warn(\n"
     ]
    },
    {
     "name": "stdout",
     "output_type": "stream",
     "text": [
      "| \u001b[39m31       \u001b[39m | \u001b[39m0.5736523\u001b[39m | \u001b[39m0.2284095\u001b[39m | \u001b[39m0.0      \u001b[39m |\n"
     ]
    },
    {
     "name": "stderr",
     "output_type": "stream",
     "text": [
      "C:\\Users\\gabri\\AppData\\Local\\Packages\\PythonSoftwareFoundation.Python.3.11_qbz5n2kfra8p0\\LocalCache\\local-packages\\Python311\\site-packages\\sklearn\\linear_model\\_logistic.py:1272: FutureWarning: 'multi_class' was deprecated in version 1.5 and will be removed in 1.8. From then on, it will always use 'multinomial'. Leave it to its default value to avoid this warning.\n",
      "  warnings.warn(\n"
     ]
    },
    {
     "name": "stdout",
     "output_type": "stream",
     "text": [
      "| \u001b[39m32       \u001b[39m | \u001b[39m0.5859864\u001b[39m | \u001b[39m1.6002568\u001b[39m | \u001b[39m1.0      \u001b[39m |\n"
     ]
    },
    {
     "name": "stderr",
     "output_type": "stream",
     "text": [
      "C:\\Users\\gabri\\AppData\\Local\\Packages\\PythonSoftwareFoundation.Python.3.11_qbz5n2kfra8p0\\LocalCache\\local-packages\\Python311\\site-packages\\sklearn\\linear_model\\_logistic.py:1272: FutureWarning: 'multi_class' was deprecated in version 1.5 and will be removed in 1.8. From then on, it will always use 'multinomial'. Leave it to its default value to avoid this warning.\n",
      "  warnings.warn(\n"
     ]
    },
    {
     "name": "stdout",
     "output_type": "stream",
     "text": [
      "| \u001b[39m33       \u001b[39m | \u001b[39m0.5859864\u001b[39m | \u001b[39m0.7928498\u001b[39m | \u001b[39m0.8318709\u001b[39m |\n"
     ]
    },
    {
     "name": "stderr",
     "output_type": "stream",
     "text": [
      "C:\\Users\\gabri\\AppData\\Local\\Packages\\PythonSoftwareFoundation.Python.3.11_qbz5n2kfra8p0\\LocalCache\\local-packages\\Python311\\site-packages\\sklearn\\linear_model\\_logistic.py:1272: FutureWarning: 'multi_class' was deprecated in version 1.5 and will be removed in 1.8. From then on, it will always use 'multinomial'. Leave it to its default value to avoid this warning.\n",
      "  warnings.warn(\n"
     ]
    },
    {
     "name": "stdout",
     "output_type": "stream",
     "text": [
      "| \u001b[39m34       \u001b[39m | \u001b[39m0.5859864\u001b[39m | \u001b[39m-5.370102\u001b[39m | \u001b[39m1.0      \u001b[39m |\n"
     ]
    },
    {
     "name": "stderr",
     "output_type": "stream",
     "text": [
      "C:\\Users\\gabri\\AppData\\Local\\Packages\\PythonSoftwareFoundation.Python.3.11_qbz5n2kfra8p0\\LocalCache\\local-packages\\Python311\\site-packages\\sklearn\\linear_model\\_logistic.py:1272: FutureWarning: 'multi_class' was deprecated in version 1.5 and will be removed in 1.8. From then on, it will always use 'multinomial'. Leave it to its default value to avoid this warning.\n",
      "  warnings.warn(\n"
     ]
    },
    {
     "name": "stdout",
     "output_type": "stream",
     "text": [
      "| \u001b[39m35       \u001b[39m | \u001b[39m0.5859864\u001b[39m | \u001b[39m-4.621663\u001b[39m | \u001b[39m1.0      \u001b[39m |\n",
      "=================================================\n"
     ]
    }
   ],
   "source": [
    "\n",
    "# Bayesian Optimization objective (maximize macro-F1 on VAL) \n",
    "def objective(log10_C, penalty_flag):\n",
    "    # map numeric flag to string penalty\n",
    "    penalty_type = \"l1\" if penalty_flag < 0.5 else \"l2\"\n",
    "    C = 10.0 ** log10_C\n",
    "    try:\n",
    "        pipe = make_pipe(C, penalty_type)\n",
    "        pipe.fit(X_train, Y_train)\n",
    "        yv = pipe.predict(X_val)\n",
    "        f1 = f1_score(Y_val, yv, average=\"macro\")\n",
    "    except Exception:\n",
    "        f1 = 0  # in case solver/penalty combo fails\n",
    "    return f1\n",
    "\n",
    "# Search bounds for C in [1e-6, 1e+2]\n",
    "pbounds = {\n",
    "    \"log10_C\": (-6, 2),   # 1e-6 to 1e2\n",
    "    \"penalty_flag\": (0, 1)  # 0 → L1, 1 → L2\n",
    "}\n",
    "\n",
    "optimizer = BayesianOptimization(\n",
    "    f=objective,\n",
    "    pbounds=pbounds,\n",
    "    random_state=42,\n",
    "    verbose=2\n",
    ")\n",
    "\n",
    "print(\"\\nRunning Bayesian Optimization for C and penalty...\")\n",
    "optimizer.maximize(init_points=5, n_iter=30)\n",
    "\n"
   ]
  },
  {
   "cell_type": "code",
   "execution_count": 26,
   "id": "cc1205c7",
   "metadata": {},
   "outputs": [
    {
     "name": "stdout",
     "output_type": "stream",
     "text": [
      "\n",
      "Best parameters found:\n",
      "  Penalty: l2\n",
      "  C = 0.000991564 (log10_C=-3.004)\n",
      "  Validation macro-F1 = 0.5860\n"
     ]
    }
   ],
   "source": [
    "# Retrieve best parameters\n",
    "best_log10_C = optimizer.max[\"params\"][\"log10_C\"]\n",
    "best_penalty_flag = optimizer.max[\"params\"][\"penalty_flag\"]\n",
    "best_penalty = \"l1\" if best_penalty_flag < 0.5 else \"l2\"\n",
    "best_C = 10.0 ** best_log10_C\n",
    "best_val_f1 = optimizer.max[\"target\"]\n",
    "\n",
    "print(f\"\\nBest parameters found:\")\n",
    "print(f\"  Penalty: {best_penalty}\")\n",
    "print(f\"  C = {best_C:.6g} (log10_C={best_log10_C:.3f})\")\n",
    "print(f\"  Validation macro-F1 = {best_val_f1:.4f}\")"
   ]
  },
  {
   "cell_type": "code",
   "execution_count": 27,
   "id": "46089328",
   "metadata": {},
   "outputs": [
    {
     "name": "stderr",
     "output_type": "stream",
     "text": [
      "C:\\Users\\gabri\\AppData\\Local\\Packages\\PythonSoftwareFoundation.Python.3.11_qbz5n2kfra8p0\\LocalCache\\local-packages\\Python311\\site-packages\\sklearn\\linear_model\\_logistic.py:1272: FutureWarning: 'multi_class' was deprecated in version 1.5 and will be removed in 1.8. From then on, it will always use 'multinomial'. Leave it to its default value to avoid this warning.\n",
      "  warnings.warn(\n"
     ]
    },
    {
     "name": "stdout",
     "output_type": "stream",
     "text": [
      "\n",
      "=== TEST RESULTS ===\n",
      "                  precision    recall  f1-score   support\n",
      "\n",
      "  DDOS_Slowloris     0.1052    0.9626    0.1897       107\n",
      "   DOS_SYN_Hping     0.9994    0.9862    0.9927     18932\n",
      " Not Compromised     0.5070    0.6453    0.5679      1672\n",
      "Other Compromise     0.9739    0.7059    0.8185      3913\n",
      "\n",
      "        accuracy                         0.9184     24624\n",
      "       macro avg     0.6464    0.8250    0.6422     24624\n",
      "    weighted avg     0.9580    0.9184    0.9327     24624\n",
      "\n",
      "Confusion matrix (rows=true, cols=pred):\n",
      " [[  103     0     3     1]\n",
      " [    0 18670   262     0]\n",
      " [  513     7  1079    73]\n",
      " [  363     4   784  2762]]\n"
     ]
    }
   ],
   "source": [
    "# Retrain on TRAIN+VAL using best hyperparameters\n",
    "X_trv = np.vstack([X_train, X_val])\n",
    "Y_trv = np.concatenate([Y_train, Y_val])\n",
    "\n",
    "final_model = make_pipe(best_C, best_penalty)\n",
    "final_model.fit(X_trv, Y_trv)\n",
    "\n",
    "Y_test_pred = final_model.predict(X_test)\n",
    "print(\"\\n=== TEST RESULTS ===\")\n",
    "print(classification_report(Y_test, Y_test_pred, digits=4))\n",
    "print(\"Confusion matrix (rows=true, cols=pred):\\n\", confusion_matrix(Y_test, Y_test_pred))"
   ]
  }
 ],
 "metadata": {
  "kernelspec": {
   "display_name": "Python 3",
   "language": "python",
   "name": "python3"
  },
  "language_info": {
   "codemirror_mode": {
    "name": "ipython",
    "version": 3
   },
   "file_extension": ".py",
   "mimetype": "text/x-python",
   "name": "python",
   "nbconvert_exporter": "python",
   "pygments_lexer": "ipython3",
   "version": "3.11.9"
  }
 },
 "nbformat": 4,
 "nbformat_minor": 5
}
